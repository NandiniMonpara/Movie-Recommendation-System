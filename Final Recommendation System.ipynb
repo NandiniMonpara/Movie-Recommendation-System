{
 "cells": [
  {
   "cell_type": "code",
   "execution_count": 3,
   "id": "2b80036f-b7ca-4708-b9f8-22c83f894301",
   "metadata": {},
   "outputs": [
    {
     "name": "stdin",
     "output_type": "stream",
     "text": [
      "\n",
      " Enter a movie name (or type 'exit' to quit):   Four Rooms (1995)\n"
     ]
    },
    {
     "name": "stdout",
     "output_type": "stream",
     "text": [
      "\n",
      " If you liked 'Four Rooms (1995)', you might enjoy:\n",
      "   1.  Ace Ventura: When Nature Calls (1995)\n",
      "   2.  Friday (1995)\n",
      "   3.  Father of the Bride Part II (1995)\n"
     ]
    },
    {
     "name": "stdin",
     "output_type": "stream",
     "text": [
      "\n",
      " Enter a movie name (or type 'exit' to quit):   Friday (1995)\n"
     ]
    },
    {
     "name": "stdout",
     "output_type": "stream",
     "text": [
      "\n",
      " If you liked 'Friday (1995)', you might enjoy:\n",
      "   1.  Black Sheep (1996)\n",
      "   2.  Bio-Dome (1996)\n",
      "   3.  Father of the Bride Part II (1995)\n"
     ]
    },
    {
     "name": "stdin",
     "output_type": "stream",
     "text": [
      "\n",
      " Enter a movie name (or type 'exit' to quit):   Bio-Dome (1996)\n"
     ]
    },
    {
     "name": "stdout",
     "output_type": "stream",
     "text": [
      "\n",
      " If you liked 'Bio-Dome (1996)', you might enjoy:\n",
      "   1.  Friday (1995)\n",
      "   2.  Ace Ventura: When Nature Calls (1995)\n",
      "   3.  Four Rooms (1995)\n"
     ]
    },
    {
     "name": "stdin",
     "output_type": "stream",
     "text": [
      "\n",
      " Enter a movie name (or type 'exit' to quit):    Ace Ventura: When Nature Calls (1995)\n"
     ]
    },
    {
     "name": "stdout",
     "output_type": "stream",
     "text": [
      "\n",
      " If you liked 'Ace Ventura: When Nature Calls (1995)', you might enjoy:\n",
      "   1.  Friday (1995)\n",
      "   2.  Four Rooms (1995)\n",
      "   3.  Father of the Bride Part II (1995)\n"
     ]
    },
    {
     "name": "stdin",
     "output_type": "stream",
     "text": [
      "\n",
      " Enter a movie name (or type 'exit' to quit):   Father of the Bride Part II (1995)\n"
     ]
    },
    {
     "name": "stdout",
     "output_type": "stream",
     "text": [
      "\n",
      " If you liked 'Father of the Bride Part II (1995)', you might enjoy:\n",
      "   1.  Ace Ventura: When Nature Calls (1995)\n",
      "   2.  Four Rooms (1995)\n",
      "   3.  Friday (1995)\n"
     ]
    },
    {
     "name": "stdin",
     "output_type": "stream",
     "text": [
      "\n",
      " Enter a movie name (or type 'exit' to quit):   exit\n"
     ]
    },
    {
     "name": "stdout",
     "output_type": "stream",
     "text": [
      "\n",
      " Thanks for using the movie recommender! Have a great day! \n"
     ]
    }
   ],
   "source": [
    "#Final Code\n",
    "import numpy as np\n",
    "import pandas as pd\n",
    "\n",
    "# Load movie data (assuming 'movies.csv' has 'movieId', 'title', 'genres')\n",
    "df = pd.read_csv('movie.csv')\n",
    "\n",
    "# Take first 100 movies for simplicity\n",
    "movies_data = df.head(100)[['movieId', 'title', 'genres']].copy()\n",
    "# Convert genres into lists\n",
    "movies_data['genres'] = movies_data['genres'].apply(lambda x: x.split('|'))\n",
    "\n",
    "# Create movie index mapping\n",
    "movie_index = {title: idx for idx, title in enumerate(movies_data['title'])}\n",
    "index_movie = {idx: title for idx, title in enumerate(movies_data['title'])}\n",
    "\n",
    "num_movies = len(movies_data)\n",
    "\n",
    "# Initialize transition probability matrix P\n",
    "P = np.zeros((num_movies, num_movies))\n",
    "\n",
    "# Compute transition probabilities based on genre overlap\n",
    "for i in range(num_movies):\n",
    "    for j in range(num_movies):\n",
    "        if i != j:\n",
    "            shared_genres = len(set(movies_data.iloc[i]['genres']) & set(movies_data.iloc[j]['genres']))\n",
    "            total_genres = len(set(movies_data.iloc[i]['genres']) | set(movies_data.iloc[j]['genres']))\n",
    "            P[i, j] = shared_genres / total_genres if total_genres > 0 else 0\n",
    "\n",
    "# Normalize P (so each row sums to 1)\n",
    "row_sums = P.sum(axis=1, keepdims=True)\n",
    "P = np.divide(P, row_sums, where=(row_sums != 0))  # Avoid division by zero\n",
    "\n",
    "# Define Reward Function (R) - Higher reward for movies with more genre matches\n",
    "R = np.zeros(num_movies)\n",
    "\n",
    "# Value Iteration Parameters\n",
    "gamma = 0.85  # Discount factor\n",
    "theta = 1e-6  # Convergence threshold\n",
    "\n",
    "# Initialize Value function\n",
    "V = np.zeros(num_movies)\n",
    "\n",
    "# Value Iteration Algorithm\n",
    "while True:\n",
    "    delta = 0\n",
    "    new_V = np.zeros(num_movies)\n",
    "    \n",
    "    for s in range(num_movies):\n",
    "        action_values = P[s] @ (R + gamma * V)  # Compute expected value\n",
    "        sorted_actions = np.argsort(P[s])[::-1]  # Rank movies by transition probability\n",
    "        \n",
    "        best_actions = sorted_actions[:3]  # Top 3 recommendations\n",
    "        new_V[s] = action_values if len(best_actions) > 0 else 0\n",
    "        \n",
    "        delta = max(delta, abs(new_V[s] - V[s]))  # Check for convergence\n",
    "    \n",
    "    V = new_V  # Update values\n",
    "    \n",
    "    if delta < theta:\n",
    "        break  # Converged!\n",
    "\n",
    "# Function to Recommend Movies\n",
    "def recommend_movies(movie_name):\n",
    "    if movie_name not in movie_index:\n",
    "        print(f\" Movie '{movie_name}' not found in database.\")\n",
    "        return []\n",
    "    \n",
    "    movie_idx = movie_index[movie_name]\n",
    "    sorted_actions = np.argsort(P[movie_idx])[::-1]  # Rank movies\n",
    "    \n",
    "    recommendations = [index_movie[idx] for idx in sorted_actions[:3] if idx != movie_idx]\n",
    "    \n",
    "    return recommendations if recommendations else [\"No similar movies found!\"]\n",
    "\n",
    "# User Input Loop\n",
    "while True:\n",
    "    user_movie = input(\"\\n Enter a movie name (or type 'exit' to quit):  \").strip()\n",
    "    \n",
    "    if user_movie.lower() == 'exit':\n",
    "        print(\"\\n Thanks for using the movie recommender! Have a great day! \")\n",
    "        break\n",
    "\n",
    "    recommended_movies = recommend_movies(user_movie)\n",
    "\n",
    "    print(f\"\\n If you liked '{user_movie}', you might enjoy:\")\n",
    "    for idx, movie in enumerate(recommended_movies, 1):\n",
    "        print(f\"   {idx}.  {movie}\")\n"
   ]
  },
  {
   "cell_type": "code",
   "execution_count": null,
   "id": "82b768ca-bc66-4c4e-a21c-00d049d5be2b",
   "metadata": {},
   "outputs": [],
   "source": []
  }
 ],
 "metadata": {
  "kernelspec": {
   "display_name": "Python [conda env:base] *",
   "language": "python",
   "name": "conda-base-py"
  },
  "language_info": {
   "codemirror_mode": {
    "name": "ipython",
    "version": 3
   },
   "file_extension": ".py",
   "mimetype": "text/x-python",
   "name": "python",
   "nbconvert_exporter": "python",
   "pygments_lexer": "ipython3",
   "version": "3.12.7"
  }
 },
 "nbformat": 4,
 "nbformat_minor": 5
}
